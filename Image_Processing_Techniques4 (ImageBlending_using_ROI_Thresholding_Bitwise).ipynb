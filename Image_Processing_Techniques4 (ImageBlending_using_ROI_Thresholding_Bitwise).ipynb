{
 "cells": [
  {
   "cell_type": "code",
   "execution_count": 3,
   "id": "345eb42f",
   "metadata": {},
   "outputs": [],
   "source": [
    "#blend the second image into the first image via threshold and bitwise\n",
    "#load both images and ensure first image (background) is bigger than the second image (foreground)\n",
    "import cv2\n",
    "image1_path = r'D:\\ComputerVision_Projects\\Image_Processing_1\\input\\super_hero.jpg'\n",
    "image2_path = r'D:\\ComputerVision_Projects\\Image_Processing_1\\input\\storm_breaker.JPG'\n",
    "image1 = cv2.imread(image1_path)\n",
    "image2 = cv2.imread(image2_path)\n",
    "image1 = cv2.resize(image1, (500,400))\n",
    "image2 = cv2.resize(image2, (250,400))\n",
    "\n",
    "#prepare foreground (image2 with its mask) and background (image1 roi with image2's INVERTED mask i.e., white background)\n",
    "#foreground\n",
    "image2_gray = cv2.cvtColor(image2, cv2.COLOR_BGR2GRAY)\n",
    "_,image2_mask = cv2.threshold(image2_gray, 30, 255, cv2.THRESH_BINARY)\n",
    "image_foreground = cv2.bitwise_and(image2,image2,mask=image2_mask)\n",
    "#background\n",
    "width, height, channel = image2.shape\n",
    "image1_roi = image1[0:width,0:height]\n",
    "image2_mask_inverted = cv2.bitwise_not(image2_mask)\n",
    "image_background = cv2.bitwise_and(image1_roi,image1_roi,mask=image2_mask_inverted)\n",
    "\n",
    "#add foreground to background and then to the image1\n",
    "image_back_fore_ground = cv2.add(image_foreground,image_background)\n",
    "image_blended = image1\n",
    "image_blended[0:width,0:height] = image_back_fore_ground\n",
    "\n",
    "#plot all the graphs\n",
    "cv2.imshow('image1',image1)\n",
    "cv2.imshow('image2',image2)\n",
    "cv2.imshow('image2_gray',image2_gray)\n",
    "cv2.imshow('image2_mask',image2_mask)\n",
    "cv2.imshow('image_foreground',image_foreground)\n",
    "cv2.imshow('image1_roi',image1_roi)\n",
    "cv2.imshow('image2_mask_inverted',image2_mask_inverted)\n",
    "cv2.imshow('image_background',image_background)\n",
    "cv2.imshow('image_back_fore_ground',image_back_fore_ground)\n",
    "cv2.imshow('image_blended',image_blended)\n",
    "\n",
    "#release all\n",
    "cv2.waitKey(0)\n",
    "cv2.destroyAllWindows()"
   ]
  }
 ],
 "metadata": {
  "kernelspec": {
   "display_name": "Python 3",
   "language": "python",
   "name": "python3"
  },
  "language_info": {
   "codemirror_mode": {
    "name": "ipython",
    "version": 3
   },
   "file_extension": ".py",
   "mimetype": "text/x-python",
   "name": "python",
   "nbconvert_exporter": "python",
   "pygments_lexer": "ipython3",
   "version": "3.8.8"
  },
  "varInspector": {
   "cols": {
    "lenName": 16,
    "lenType": 16,
    "lenVar": 40
   },
   "kernels_config": {
    "python": {
     "delete_cmd_postfix": "",
     "delete_cmd_prefix": "del ",
     "library": "var_list.py",
     "varRefreshCmd": "print(var_dic_list())"
    },
    "r": {
     "delete_cmd_postfix": ") ",
     "delete_cmd_prefix": "rm(",
     "library": "var_list.r",
     "varRefreshCmd": "cat(var_dic_list()) "
    }
   },
   "types_to_exclude": [
    "module",
    "function",
    "builtin_function_or_method",
    "instance",
    "_Feature"
   ],
   "window_display": false
  }
 },
 "nbformat": 4,
 "nbformat_minor": 5
}
